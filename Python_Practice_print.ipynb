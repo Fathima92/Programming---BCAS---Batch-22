{
  "metadata": {
    "kernelspec": {
      "name": "python",
      "display_name": "Python (Pyodide)",
      "language": "python"
    },
    "language_info": {
      "codemirror_mode": {
        "name": "python",
        "version": 3
      },
      "file_extension": ".py",
      "mimetype": "text/x-python",
      "name": "python",
      "nbconvert_exporter": "python",
      "pygments_lexer": "ipython3",
      "version": "3.8"
    }
  },
  "nbformat_minor": 4,
  "nbformat": 4,
  "cells": [
    {
      "cell_type": "code",
      "source": "name = \"Aneeka\"\nage = 21\nprint(\"My name is \" + name + \" and I am \" + str(age) + \" years old.\")\n\n# Using multiple arguments in print\nprint(\"My name is\", name, \"and I am\", age, \"years old.\")",
      "metadata": {
        "trusted": true
      },
      "outputs": [
        {
          "name": "stdout",
          "text": "My name is Aneeka and I am 21 years old.\nMy name is Aneeka and I am 21 years old.\n",
          "output_type": "stream"
        }
      ],
      "execution_count": 1
    },
    {
      "cell_type": "code",
      "source": "# Using f-strings for formatted output (Python 3.6+)\nprint(f\"My name is {name} and I am {age} years old.\")",
      "metadata": {
        "trusted": true
      },
      "outputs": [
        {
          "name": "stdout",
          "text": "My name is Aneeka and I am 21 years old.\n",
          "output_type": "stream"
        }
      ],
      "execution_count": 2
    },
    {
      "cell_type": "code",
      "source": "# Using the format method\nprint(\"My name is {} and I am {} years old.\".format(name, age))\n\n# Using positional arguments in format method\nprint(\"My name is {0} and I am {1} years old. {0} is learning Python.\".format(name, age))\n\n# Using named placeholders in format method\nprint(\"My name is {n} and I am {a} years old.\".format(n=name, a=age))",
      "metadata": {
        "trusted": true
      },
      "outputs": [
        {
          "name": "stdout",
          "text": "My name is Aneeka and I am 21 years old.\nMy name is Aneeka and I am 21 years old. Aneeka is learning Python.\nMy name is Aneeka and I am 21 years old.\n",
          "output_type": "stream"
        }
      ],
      "execution_count": 3
    },
    {
      "cell_type": "code",
      "source": "# Printing with newline character\nprint(\"Hello\\nWorld\")\n\n# Printing with tab character\nprint(\"Hello\\tWorld\")\n\n# Printing with backslash\nprint(\"This is a backslash: \\\\\")\n\n# Printing single and double quotes\nprint(\"He said, 'Hello!'\")\nprint('She said, \"Hi!\"')\n\n# Printing a combination of quotes\nprint(\"He said, \\\"Hello!\\\"\")\nprint('She said, \\'Hi!\\'')",
      "metadata": {
        "trusted": true
      },
      "outputs": [
        {
          "name": "stdout",
          "text": "Hello\nWorld\nHello\tWorld\nThis is a backslash: \\\nHe said, 'Hello!'\nShe said, \"Hi!\"\nHe said, \"Hello!\"\nShe said, 'Hi!'\n",
          "output_type": "stream"
        }
      ],
      "execution_count": 4
    },
    {
      "cell_type": "code",
      "source": "# Printing without newline (end parameter)\nprint(\"Hello\", end=\" \")\nprint(\"World\")\n\n# Using custom separator\nprint(\"Alice\", \"Bob\", \"Charlie\", sep=\", \")",
      "metadata": {
        "trusted": true
      },
      "outputs": [
        {
          "name": "stdout",
          "text": "Hello World\nAlice, Bob, Charlie\n",
          "output_type": "stream"
        }
      ],
      "execution_count": 5
    },
    {
      "cell_type": "code",
      "source": "# Using print for debugging\nfor i in range(5):\n    print(f\"Current value of i: {i}\")",
      "metadata": {
        "trusted": true
      },
      "outputs": [
        {
          "name": "stdout",
          "text": "Current value of i: 0\nCurrent value of i: 1\nCurrent value of i: 2\nCurrent value of i: 3\nCurrent value of i: 4\n",
          "output_type": "stream"
        }
      ],
      "execution_count": 6
    },
    {
      "cell_type": "code",
      "source": "",
      "metadata": {
        "trusted": true
      },
      "outputs": [],
      "execution_count": null
    }
  ]
}